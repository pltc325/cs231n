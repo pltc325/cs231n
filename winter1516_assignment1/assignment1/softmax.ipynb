{
 "cells": [
  {
   "cell_type": "markdown",
   "metadata": {},
   "source": [
    "# Softmax exercise\n",
    "\n",
    "*Complete and hand in this completed worksheet (including its outputs and any supporting code outside of the worksheet) with your assignment submission. For more details see the [assignments page](http://vision.stanford.edu/teaching/cs231n/assignments.html) on the course website.*\n",
    "\n",
    "This exercise is analogous to the SVM exercise. You will:\n",
    "\n",
    "- implement a fully-vectorized **loss function** for the Softmax classifier\n",
    "- implement the fully-vectorized expression for its **analytic gradient**\n",
    "- **check your implementation** with numerical gradient\n",
    "- use a validation set to **tune the learning rate and regularization** strength\n",
    "- **optimize** the loss function with **SGD**\n",
    "- **visualize** the final learned weights\n"
   ]
  },
  {
   "cell_type": "code",
   "execution_count": 1,
   "metadata": {
    "collapsed": false
   },
   "outputs": [],
   "source": [
    "import random\n",
    "import numpy as np\n",
    "from cs231n.data_utils import load_CIFAR10\n",
    "import matplotlib.pyplot as plt\n",
    "%matplotlib inline\n",
    "plt.rcParams['figure.figsize'] = (10.0, 8.0) # set default size of plots\n",
    "plt.rcParams['image.interpolation'] = 'nearest'\n",
    "plt.rcParams['image.cmap'] = 'gray'\n",
    "\n",
    "# for auto-reloading extenrnal modules\n",
    "# see http://stackoverflow.com/questions/1907993/autoreload-of-modules-in-ipython\n",
    "%load_ext autoreload\n",
    "%autoreload 2"
   ]
  },
  {
   "cell_type": "code",
   "execution_count": 2,
   "metadata": {
    "collapsed": false
   },
   "outputs": [
    {
     "name": "stdout",
     "output_type": "stream",
     "text": [
      "Train data shape:  (49000, 3073)\n",
      "Train labels shape:  (49000,)\n",
      "Validation data shape:  (1000, 3073)\n",
      "Validation labels shape:  (1000,)\n",
      "Test data shape:  (1000, 3073)\n",
      "Test labels shape:  (1000,)\n",
      "dev data shape:  (500, 3073)\n",
      "dev labels shape:  (500,)\n"
     ]
    }
   ],
   "source": [
    "def get_CIFAR10_data(num_training=49000, num_validation=1000, num_test=1000, num_dev=500):\n",
    "  \"\"\"\n",
    "  Load the CIFAR-10 dataset from disk and perform preprocessing to prepare\n",
    "  it for the linear classifier. These are the same steps as we used for the\n",
    "  SVM, but condensed to a single function.  \n",
    "  \"\"\"\n",
    "  # Load the raw CIFAR-10 data\n",
    "  cifar10_dir = 'cs231n/datasets/cifar-10-batches-py'\n",
    "  X_train, y_train, X_test, y_test = load_CIFAR10(cifar10_dir)\n",
    "  \n",
    "  # subsample the data\n",
    "  mask = range(num_training, num_training + num_validation)\n",
    "  X_val = X_train[mask]\n",
    "  y_val = y_train[mask]\n",
    "  mask = range(num_training)\n",
    "  X_train = X_train[mask]\n",
    "  y_train = y_train[mask]\n",
    "  mask = range(num_test)\n",
    "  X_test = X_test[mask]\n",
    "  y_test = y_test[mask]\n",
    "  mask = np.random.choice(num_training, num_dev, replace=False)\n",
    "  X_dev = X_train[mask]\n",
    "  y_dev = y_train[mask]\n",
    "  \n",
    "  # Preprocessing: reshape the image data into rows\n",
    "  X_train = np.reshape(X_train, (X_train.shape[0], -1))\n",
    "  X_val = np.reshape(X_val, (X_val.shape[0], -1))\n",
    "  X_test = np.reshape(X_test, (X_test.shape[0], -1))\n",
    "  X_dev = np.reshape(X_dev, (X_dev.shape[0], -1))\n",
    "  \n",
    "  # Normalize the data: subtract the mean image\n",
    "  mean_image = np.mean(X_train, axis = 0)\n",
    "  X_train -= mean_image\n",
    "  X_val -= mean_image\n",
    "  X_test -= mean_image\n",
    "  X_dev -= mean_image\n",
    "  \n",
    "  # add bias dimension and transform into columns\n",
    "  X_train = np.hstack([X_train, np.ones((X_train.shape[0], 1))])\n",
    "  X_val = np.hstack([X_val, np.ones((X_val.shape[0], 1))])\n",
    "  X_test = np.hstack([X_test, np.ones((X_test.shape[0], 1))])\n",
    "  X_dev = np.hstack([X_dev, np.ones((X_dev.shape[0], 1))])\n",
    "  \n",
    "  return X_train, y_train, X_val, y_val, X_test, y_test, X_dev, y_dev\n",
    "\n",
    "\n",
    "# Invoke the above function to get our data.\n",
    "X_train, y_train, X_val, y_val, X_test, y_test, X_dev, y_dev = get_CIFAR10_data()\n",
    "print 'Train data shape: ', X_train.shape\n",
    "print 'Train labels shape: ', y_train.shape\n",
    "print 'Validation data shape: ', X_val.shape\n",
    "print 'Validation labels shape: ', y_val.shape\n",
    "print 'Test data shape: ', X_test.shape\n",
    "print 'Test labels shape: ', y_test.shape\n",
    "print 'dev data shape: ', X_dev.shape\n",
    "print 'dev labels shape: ', y_dev.shape"
   ]
  },
  {
   "cell_type": "markdown",
   "metadata": {},
   "source": [
    "## Softmax Classifier\n",
    "\n",
    "Your code for this section will all be written inside **cs231n/classifiers/softmax.py**. \n"
   ]
  },
  {
   "cell_type": "code",
   "execution_count": 4,
   "metadata": {
    "collapsed": false
   },
   "outputs": [
    {
     "name": "stdout",
     "output_type": "stream",
     "text": [
      "loss: 2.378634\n",
      "sanity check: 2.302585\n"
     ]
    }
   ],
   "source": [
    "# First implement the naive softmax loss function with nested loops.\n",
    "# Open the file cs231n/classifiers/softmax.py and implement the\n",
    "# softmax_loss_naive function.\n",
    "\n",
    "from cs231n.classifiers.softmax import softmax_loss_naive\n",
    "import time\n",
    "\n",
    "# Generate a random softmax weight matrix and use it to compute the loss.\n",
    "W = np.random.randn(3073, 10) * 0.0001\n",
    "loss, grad = softmax_loss_naive(W, X_dev, y_dev, 0.0)\n",
    "\n",
    "# As a rough sanity check, our loss should be something close to -log(0.1).\n",
    "print 'loss: %f' % loss\n",
    "print 'sanity check: %f' % (-np.log(0.1))"
   ]
  },
  {
   "cell_type": "markdown",
   "metadata": {},
   "source": [
    "## Inline Question 1:\n",
    "Why do we expect our loss to be close to -log(0.1)? Explain briefly.**\n",
    "\n",
    "**Your answer:** *Since we only do some initializations, so the predictions we make should be roughly around a random guess, which is 1/num_classes=0,1. Therefore our loss should be around (-log(0.1))*\n"
   ]
  },
  {
   "cell_type": "code",
   "execution_count": 5,
   "metadata": {
    "collapsed": false
   },
   "outputs": [
    {
     "name": "stdout",
     "output_type": "stream",
     "text": [
      "numerical: 0.353041 analytic: 0.353041, relative error: 7.133701e-09\n",
      "numerical: -1.535159 analytic: -1.535159, relative error: 7.334176e-09\n",
      "numerical: -1.045689 analytic: -1.045689, relative error: 1.719220e-08\n",
      "numerical: 1.313550 analytic: 1.313550, relative error: 5.046729e-09\n",
      "numerical: -0.339158 analytic: -0.339158, relative error: 8.380557e-08\n",
      "numerical: -0.405100 analytic: -0.405100, relative error: 5.184018e-08\n",
      "numerical: 1.258513 analytic: 1.258513, relative error: 4.229767e-08\n",
      "numerical: -0.080898 analytic: -0.080898, relative error: 1.766635e-07\n",
      "numerical: -0.684097 analytic: -0.684097, relative error: 4.489612e-08\n",
      "numerical: 2.368220 analytic: 2.368220, relative error: 1.943086e-08\n",
      "numerical: 1.920232 analytic: 1.920232, relative error: 2.569489e-08\n",
      "numerical: 0.735778 analytic: 0.735778, relative error: 8.285626e-09\n",
      "numerical: 2.895319 analytic: 2.895319, relative error: 1.392886e-08\n",
      "numerical: 1.196747 analytic: 1.196747, relative error: 4.270477e-08\n",
      "numerical: -1.035214 analytic: -1.035214, relative error: 9.327876e-09\n",
      "numerical: 1.818216 analytic: 1.818216, relative error: 2.196803e-08\n",
      "numerical: 5.030740 analytic: 5.030739, relative error: 9.110938e-09\n",
      "numerical: -0.503716 analytic: -0.503716, relative error: 4.975484e-09\n",
      "numerical: -2.098348 analytic: -2.098348, relative error: 4.882476e-09\n",
      "numerical: -0.083214 analytic: -0.083214, relative error: 1.682296e-07\n"
     ]
    }
   ],
   "source": [
    "# Complete the implementation of softmax_loss_naive and implement a (naive)\n",
    "# version of the gradient that uses nested loops.\n",
    "loss, grad = softmax_loss_naive(W, X_dev, y_dev, 0.0)\n",
    "\n",
    "# As we did for the SVM, use numeric gradient checking as a debugging tool.\n",
    "# The numeric gradient should be close to the analytic gradient.\n",
    "from cs231n.gradient_check import grad_check_sparse\n",
    "f = lambda w: softmax_loss_naive(w, X_dev, y_dev, 0.0)[0]\n",
    "grad_numerical = grad_check_sparse(f, W, grad, 10)\n",
    "\n",
    "# similar to SVM case, do another gradient check with regularization\n",
    "loss, grad = softmax_loss_naive(W, X_dev, y_dev, 1e2)\n",
    "f = lambda w: softmax_loss_naive(w, X_dev, y_dev, 1e2)[0]\n",
    "grad_numerical = grad_check_sparse(f, W, grad, 10)"
   ]
  },
  {
   "cell_type": "code",
   "execution_count": 6,
   "metadata": {
    "collapsed": false
   },
   "outputs": [
    {
     "name": "stdout",
     "output_type": "stream",
     "text": [
      "naive loss: 2.378634e+00 computed in 0.116301s\n",
      "vectorized loss: 2.378634e+00 computed in 0.011437s\n",
      "Loss difference: 0.000000\n",
      "Gradient difference: 0.000000\n"
     ]
    }
   ],
   "source": [
    "# Now that we have a naive implementation of the softmax loss function and its gradient,\n",
    "# implement a vectorized version in softmax_loss_vectorized.\n",
    "# The two versions should compute the same results, but the vectorized version should be\n",
    "# much faster.\n",
    "tic = time.time()\n",
    "loss_naive, grad_naive = softmax_loss_naive(W, X_dev, y_dev, 0.00001)\n",
    "toc = time.time()\n",
    "print 'naive loss: %e computed in %fs' % (loss_naive, toc - tic)\n",
    "\n",
    "from cs231n.classifiers.softmax import softmax_loss_vectorized\n",
    "tic = time.time()\n",
    "loss_vectorized, grad_vectorized = softmax_loss_vectorized(W, X_dev, y_dev, 0.00001)\n",
    "toc = time.time()\n",
    "print 'vectorized loss: %e computed in %fs' % (loss_vectorized, toc - tic)\n",
    "\n",
    "# As we did for the SVM, we use the Frobenius norm to compare the two versions\n",
    "# of the gradient.\n",
    "grad_difference = np.linalg.norm(grad_naive - grad_vectorized, ord='fro')\n",
    "print 'Loss difference: %f' % np.abs(loss_naive - loss_vectorized)\n",
    "print 'Gradient difference: %f' % grad_difference"
   ]
  },
  {
   "cell_type": "code",
   "execution_count": 7,
   "metadata": {
    "collapsed": false
   },
   "outputs": [
    {
     "name": "stdout",
     "output_type": "stream",
     "text": [
      "1/45\n",
      "best_val 0.357 lr: 1e-07 rs: 30000.0\n",
      "2/45\n",
      "3/45\n",
      "4/45\n",
      "5/45\n",
      "6/45\n",
      "best_val 0.361 lr: 2e-07 rs: 30000.0\n",
      "7/45\n",
      "8/45\n",
      "9/45\n",
      "10/45\n",
      "11/45\n",
      "12/45\n",
      "13/45\n",
      "14/45\n",
      "15/45\n",
      "16/45\n",
      "17/45\n",
      "18/45\n",
      "19/45\n",
      "20/45\n",
      "21/45\n",
      "22/45\n",
      "23/45\n",
      "24/45\n",
      "25/45\n",
      "26/45\n",
      "27/45\n",
      "28/45\n",
      "29/45\n",
      "30/45\n",
      "31/45\n",
      "best_val 0.365 lr: 7e-07 rs: 30000.0\n",
      "32/45\n",
      "33/45\n",
      "34/45\n",
      "35/45\n",
      "36/45\n",
      "37/45\n",
      "38/45\n",
      "39/45\n",
      "40/45\n",
      "41/45\n",
      "42/45\n",
      "43/45\n",
      "44/45\n",
      "45/45\n",
      "lr 1.000000e-07 reg 3.000000e+04 train accuracy: 0.342673 val accuracy: 0.357000\n",
      "lr 1.000000e-07 reg 4.000000e+04 train accuracy: 0.334980 val accuracy: 0.356000\n",
      "lr 1.000000e-07 reg 5.000000e+04 train accuracy: 0.324510 val accuracy: 0.342000\n",
      "lr 1.000000e-07 reg 6.000000e+04 train accuracy: 0.317408 val accuracy: 0.334000\n",
      "lr 1.000000e-07 reg 7.000000e+04 train accuracy: 0.324694 val accuracy: 0.340000\n",
      "lr 2.000000e-07 reg 3.000000e+04 train accuracy: 0.347184 val accuracy: 0.361000\n",
      "lr 2.000000e-07 reg 4.000000e+04 train accuracy: 0.329878 val accuracy: 0.351000\n",
      "lr 2.000000e-07 reg 5.000000e+04 train accuracy: 0.326143 val accuracy: 0.331000\n",
      "lr 2.000000e-07 reg 6.000000e+04 train accuracy: 0.321551 val accuracy: 0.331000\n",
      "lr 2.000000e-07 reg 7.000000e+04 train accuracy: 0.327184 val accuracy: 0.342000\n",
      "lr 3.000000e-07 reg 3.000000e+04 train accuracy: 0.331551 val accuracy: 0.340000\n",
      "lr 3.000000e-07 reg 4.000000e+04 train accuracy: 0.341898 val accuracy: 0.357000\n",
      "lr 3.000000e-07 reg 5.000000e+04 train accuracy: 0.329510 val accuracy: 0.345000\n",
      "lr 3.000000e-07 reg 6.000000e+04 train accuracy: 0.323796 val accuracy: 0.337000\n",
      "lr 3.000000e-07 reg 7.000000e+04 train accuracy: 0.319837 val accuracy: 0.342000\n",
      "lr 4.000000e-07 reg 3.000000e+04 train accuracy: 0.336755 val accuracy: 0.350000\n",
      "lr 4.000000e-07 reg 4.000000e+04 train accuracy: 0.338490 val accuracy: 0.338000\n",
      "lr 4.000000e-07 reg 5.000000e+04 train accuracy: 0.332020 val accuracy: 0.345000\n",
      "lr 4.000000e-07 reg 6.000000e+04 train accuracy: 0.319714 val accuracy: 0.343000\n",
      "lr 4.000000e-07 reg 7.000000e+04 train accuracy: 0.310184 val accuracy: 0.332000\n",
      "lr 5.000000e-07 reg 3.000000e+04 train accuracy: 0.339102 val accuracy: 0.348000\n",
      "lr 5.000000e-07 reg 4.000000e+04 train accuracy: 0.323347 val accuracy: 0.344000\n",
      "lr 5.000000e-07 reg 5.000000e+04 train accuracy: 0.331204 val accuracy: 0.336000\n",
      "lr 5.000000e-07 reg 6.000000e+04 train accuracy: 0.325776 val accuracy: 0.329000\n",
      "lr 5.000000e-07 reg 7.000000e+04 train accuracy: 0.318653 val accuracy: 0.337000\n",
      "lr 6.000000e-07 reg 3.000000e+04 train accuracy: 0.337020 val accuracy: 0.354000\n",
      "lr 6.000000e-07 reg 4.000000e+04 train accuracy: 0.332204 val accuracy: 0.358000\n",
      "lr 6.000000e-07 reg 5.000000e+04 train accuracy: 0.316020 val accuracy: 0.326000\n",
      "lr 6.000000e-07 reg 6.000000e+04 train accuracy: 0.316367 val accuracy: 0.330000\n",
      "lr 6.000000e-07 reg 7.000000e+04 train accuracy: 0.306082 val accuracy: 0.316000\n",
      "lr 7.000000e-07 reg 3.000000e+04 train accuracy: 0.338959 val accuracy: 0.365000\n",
      "lr 7.000000e-07 reg 4.000000e+04 train accuracy: 0.325408 val accuracy: 0.339000\n",
      "lr 7.000000e-07 reg 5.000000e+04 train accuracy: 0.319857 val accuracy: 0.336000\n",
      "lr 7.000000e-07 reg 6.000000e+04 train accuracy: 0.303061 val accuracy: 0.326000\n",
      "lr 7.000000e-07 reg 7.000000e+04 train accuracy: 0.315429 val accuracy: 0.329000\n",
      "lr 8.000000e-07 reg 3.000000e+04 train accuracy: 0.330102 val accuracy: 0.340000\n",
      "lr 8.000000e-07 reg 4.000000e+04 train accuracy: 0.336327 val accuracy: 0.343000\n",
      "lr 8.000000e-07 reg 5.000000e+04 train accuracy: 0.320918 val accuracy: 0.323000\n",
      "lr 8.000000e-07 reg 6.000000e+04 train accuracy: 0.312306 val accuracy: 0.335000\n",
      "lr 8.000000e-07 reg 7.000000e+04 train accuracy: 0.305245 val accuracy: 0.321000\n",
      "lr 9.000000e-07 reg 3.000000e+04 train accuracy: 0.335837 val accuracy: 0.352000\n",
      "lr 9.000000e-07 reg 4.000000e+04 train accuracy: 0.327408 val accuracy: 0.350000\n",
      "lr 9.000000e-07 reg 5.000000e+04 train accuracy: 0.324959 val accuracy: 0.339000\n",
      "lr 9.000000e-07 reg 6.000000e+04 train accuracy: 0.314633 val accuracy: 0.325000\n",
      "lr 9.000000e-07 reg 7.000000e+04 train accuracy: 0.308122 val accuracy: 0.312000\n",
      "best validation accuracy achieved during cross-validation: 0.365000\n"
     ]
    }
   ],
   "source": [
    "# Use the validation set to tune hyperparameters (regularization strength and\n",
    "# learning rate). You should experiment with different ranges for the learning\n",
    "# rates and regularization strengths; if you are careful you should be able to\n",
    "# get a classification accuracy of over 0.35 on the validation set.\n",
    "from cs231n.classifiers import Softmax\n",
    "results = {}\n",
    "best_val = -1\n",
    "best_softmax = None\n",
    "learning_rates = [1e-7, 5e-7]\n",
    "regularization_strengths = [5e4, 1e8]\n",
    "learning_rates = np.arange(1e-7,1e-6,1e-7)\n",
    "regularization_strengths = np.arange(3e4, 8e4,1e4)\n",
    "################################################################################\n",
    "# TODO:                                                                        #\n",
    "# Use the validation set to set the learning rate and regularization strength. #\n",
    "# This should be identical to the validation that you did for the SVM; save    #\n",
    "# the best trained softmax classifer in best_softmax.                          #\n",
    "################################################################################\n",
    "total=len(learning_rates)*len(regularization_strengths)\n",
    "i=0\n",
    "for lr in learning_rates:\n",
    "    for rs in regularization_strengths:\n",
    "        i += 1\n",
    "        print str(i) + \"/\" + str(total)\n",
    "        softmax = Softmax()\n",
    "        loss_hist = softmax.train(X_train, y_train, learning_rate=lr, reg=rs,\n",
    "                      num_iters=1500, verbose=False)\n",
    "        y_train_pred = softmax.predict(X_train)\n",
    "        accu_train = np.mean(y_train == y_train_pred)\n",
    "        #print 'training accuracy: %f' % (accu_train)\n",
    "        y_val_pred = softmax.predict(X_val)\n",
    "        accu_val = np.mean(y_val == y_val_pred) \n",
    "        #print 'validation accuracy: %f' % (accu_val)\n",
    "        results[(lr, rs)] = (accu_train,accu_val)\n",
    "        if accu_val > best_val:\n",
    "            best_val = accu_val\n",
    "            print \"best_val\",best_val,\"lr:\",lr,\"rs:\",rs\n",
    "            best_softmax = softmax\n",
    "################################################################################\n",
    "#                              END OF YOUR CODE                                #\n",
    "################################################################################\n",
    "    \n",
    "# Print out results.\n",
    "for lr, reg in sorted(results):\n",
    "    train_accuracy, val_accuracy = results[(lr, reg)]\n",
    "    print 'lr %e reg %e train accuracy: %f val accuracy: %f' % (\n",
    "                lr, reg, train_accuracy, val_accuracy)\n",
    "    \n",
    "print 'best validation accuracy achieved during cross-validation: %f' % best_val"
   ]
  },
  {
   "cell_type": "code",
   "execution_count": null,
   "metadata": {
    "collapsed": false
   },
   "outputs": [],
   "source": [
    "# evaluate on test set\n",
    "# Evaluate the best softmax on test set\n",
    "y_test_pred = best_softmax.predict(X_test)\n",
    "test_accuracy = np.mean(y_test == y_test_pred)\n",
    "print 'softmax on raw pixels final test set accuracy: %f' % (test_accuracy, )"
   ]
  },
  {
   "cell_type": "code",
   "execution_count": null,
   "metadata": {
    "collapsed": false
   },
   "outputs": [],
   "source": [
    "# Visualize the learned weights for each class\n",
    "w = best_softmax.W[:-1,:] # strip out the bias\n",
    "w = w.reshape(32, 32, 3, 10)\n",
    "\n",
    "w_min, w_max = np.min(w), np.max(w)\n",
    "\n",
    "classes = ['plane', 'car', 'bird', 'cat', 'deer', 'dog', 'frog', 'horse', 'ship', 'truck']\n",
    "for i in xrange(10):\n",
    "  plt.subplot(2, 5, i + 1)\n",
    "  \n",
    "  # Rescale the weights to be between 0 and 255\n",
    "  wimg = 255.0 * (w[:, :, :, i].squeeze() - w_min) / (w_max - w_min)\n",
    "  plt.imshow(wimg.astype('uint8'))\n",
    "  plt.axis('off')\n",
    "  plt.title(classes[i])"
   ]
  }
 ],
 "metadata": {
  "kernelspec": {
   "display_name": "Python 2",
   "language": "python",
   "name": "python2"
  },
  "language_info": {
   "codemirror_mode": {
    "name": "ipython",
    "version": 2
   },
   "file_extension": ".py",
   "mimetype": "text/x-python",
   "name": "python",
   "nbconvert_exporter": "python",
   "pygments_lexer": "ipython2",
   "version": "2.7.13"
  }
 },
 "nbformat": 4,
 "nbformat_minor": 0
}
